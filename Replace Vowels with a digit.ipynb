{
 "cells": [
  {
   "cell_type": "markdown",
   "id": "minute-tracker",
   "metadata": {},
   "source": [
    "### Question 1 – Replace Vowels with a digit"
   ]
  },
  {
   "cell_type": "code",
   "execution_count": 1,
   "id": "modified-hospital",
   "metadata": {},
   "outputs": [],
   "source": [
    "# Defining a function which will take the address value of a vowel present in a string\n",
    "# Converting it to a number i.e. \"address\"*100\n",
    "# Calculating the sum of the prime numbers from 1 to \"address\"*100.\n",
    "# Thereafter calculating the sum of the digits from previously obtained sum\n",
    "\n",
    "def process(j):   # Function Name\n",
    "    x = j*100\n",
    "    \n",
    "    if (x==0):            # if the first character of the string is vowel, function will return zero.\n",
    "        return(\"0\")     \n",
    "\n",
    "    else:                 # when the character is vowel and not placed in 0th position of the user input string.\n",
    "        total = 0\n",
    "\n",
    "        for Number in range (1, x + 1):      # Finding the sum of the prime numbers with nested loops.\n",
    "            count = 0\n",
    "            for i in range(2, (Number//2 + 1)):\n",
    "                if(Number % i == 0):\n",
    "                    count = count + 1\n",
    "                    break\n",
    "\n",
    "            if (count == 0 and Number != 1):     # Sum of the Prime Numbers is obtained.\n",
    "                total = total + Number               \n",
    "\n",
    "    s = 0\n",
    "    while(total!=0):\n",
    "        s = s + (total%10)     # Sum of the digits is calculated.\n",
    "        total = total//10  \n",
    "    \n",
    "    return(s)           # Function will return a number according to the position of the vowel present in the string."
   ]
  },
  {
   "cell_type": "code",
   "execution_count": 2,
   "id": "inappropriate-linux",
   "metadata": {},
   "outputs": [
    {
     "name": "stdout",
     "output_type": "stream",
     "text": [
      "Enter the string:  \n",
      "Dip Kumar Mallick\n"
     ]
    }
   ],
   "source": [
    "# Taking user input\n",
    "print(\"Enter the string:  \")\n",
    "string = str(input());"
   ]
  },
  {
   "cell_type": "code",
   "execution_count": 3,
   "id": "military-fashion",
   "metadata": {},
   "outputs": [],
   "source": [
    "# Defining the list for vowels\n",
    "vowels = ['A', 'E', 'I', 'O', 'U', 'a', 'e', 'i', 'o', 'u']\n",
    "\n",
    "# Copying the user input to another variable\n",
    "User_input = string"
   ]
  },
  {
   "cell_type": "code",
   "execution_count": 4,
   "id": "polished-replica",
   "metadata": {},
   "outputs": [
    {
     "name": "stdout",
     "output_type": "stream",
     "text": [
      "D#p K#m#r M#ll#ck\n"
     ]
    }
   ],
   "source": [
    "# Replacing the vowels present in the string provided by the user input with \"#\" with the help of for loop.\n",
    "for ele in vowels:\n",
    "    string = string.replace(ele, \"#\")\n",
    "print(string)"
   ]
  },
  {
   "cell_type": "code",
   "execution_count": 5,
   "id": "limited-vienna",
   "metadata": {},
   "outputs": [
    {
     "name": "stdout",
     "output_type": "stream",
     "text": [
      "['D', '#', 'p', ' ', 'K', '#', 'm', '#', 'r', ' ', 'M', '#', 'l', 'l', '#', 'c', 'k']\n"
     ]
    }
   ],
   "source": [
    "# Defining a list to append the convert string with for loop.\n",
    "new_string = []\n",
    "for char in string:\n",
    "    new_string.append(char)\n",
    "print(new_string)"
   ]
  },
  {
   "cell_type": "code",
   "execution_count": 6,
   "id": "relative-emission",
   "metadata": {},
   "outputs": [
    {
     "name": "stdout",
     "output_type": "stream",
     "text": [
      "17\n"
     ]
    }
   ],
   "source": [
    "# Calculating the number of characters present in the string\n",
    "pos = 0\n",
    "for char in new_string:\n",
    "    pos = pos+1\n",
    "print(pos)"
   ]
  },
  {
   "cell_type": "code",
   "execution_count": 7,
   "id": "interracial-kuwait",
   "metadata": {},
   "outputs": [
    {
     "name": "stdout",
     "output_type": "stream",
     "text": [
      "User Input:  Dip Kumar Mallick\n",
      "Output:  D7p K17m21r M28ll20ck\n"
     ]
    }
   ],
   "source": [
    "# Replacing the \"#\" characters with the numbers according to their position in the string\n",
    "for j in range(0,pos):\n",
    "    if (new_string[j] == \"#\"):\n",
    "        k = process(j)\n",
    "        new_string[j] = str(k)\n",
    "print(\"User Input: \",User_input)\n",
    "print(\"Output: \",''.join(new_string))"
   ]
  }
 ],
 "metadata": {
  "kernelspec": {
   "display_name": "Python 3",
   "language": "python",
   "name": "python3"
  },
  "language_info": {
   "codemirror_mode": {
    "name": "ipython",
    "version": 3
   },
   "file_extension": ".py",
   "mimetype": "text/x-python",
   "name": "python",
   "nbconvert_exporter": "python",
   "pygments_lexer": "ipython3",
   "version": "3.8.8"
  }
 },
 "nbformat": 4,
 "nbformat_minor": 5
}
