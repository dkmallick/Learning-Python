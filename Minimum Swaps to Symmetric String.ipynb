{
 "cells": [
  {
   "cell_type": "code",
   "execution_count": 1,
   "id": "spare-yorkshire",
   "metadata": {},
   "outputs": [
    {
     "name": "stdout",
     "output_type": "stream",
     "text": [
      "Enter a string having lowercase alphabet\n",
      "abcdeebadc\n",
      "Minimum swaps to symmetric string is 4.\n"
     ]
    }
   ],
   "source": [
    "# Ask for user input\n",
    "print('Enter a string having lowercase alphabet') \n",
    "\n",
    "# Taking user input in lowercase\n",
    "s = str(input())[:1000]\n",
    "\n",
    "# Calculate the string length\n",
    "n = len(s)\n",
    "\n",
    "# Creating a list to store the characters of string\n",
    "sl = list(s)\n",
    "\n",
    "# counter to count minimum number of swaps\n",
    "count = 0\n",
    "ans = True\n",
    "\n",
    "# A for loop which will run till half string from the starting of the string.\n",
    "for i in range(n // 2):\n",
    "    # Assigning a left pointer\n",
    "    left = i\n",
    "    \n",
    "    # Assigning a right pointer\n",
    "    right = n - left - 1\n",
    "    \n",
    "    # Running a while till these pointers meets each other\n",
    "    while (left < right):\n",
    "        # if the characters are same then break the loop\n",
    "        if sl[left] == sl[right]:\n",
    "                break\n",
    "        # if not, then move the right pointer to one step left\n",
    "        else:\n",
    "                right -= 1\n",
    "    \n",
    "    # if both pointers are at same position then break, if not increment the counter for each swap.\n",
    "    if left == right:\n",
    "        ans = False\n",
    "        break\n",
    "    else:\n",
    "        for j in range(right, n - left - 1):\n",
    "            (sl[j], sl[j + 1]) = (sl[j + 1], sl[j])\n",
    "            count += 1\n",
    "            \n",
    "# if ans is True, we get the count of minimum swaps, if not we get -1\n",
    "if ans:\n",
    "    print(\"Minimum swaps to symmetric string is %d.\"%(count))\n",
    "else:\n",
    "    print(-1)"
   ]
  },
  {
   "cell_type": "code",
   "execution_count": null,
   "id": "found-clone",
   "metadata": {},
   "outputs": [],
   "source": []
  }
 ],
 "metadata": {
  "kernelspec": {
   "display_name": "Python 3",
   "language": "python",
   "name": "python3"
  },
  "language_info": {
   "codemirror_mode": {
    "name": "ipython",
    "version": 3
   },
   "file_extension": ".py",
   "mimetype": "text/x-python",
   "name": "python",
   "nbconvert_exporter": "python",
   "pygments_lexer": "ipython3",
   "version": "3.8.8"
  }
 },
 "nbformat": 4,
 "nbformat_minor": 5
}
